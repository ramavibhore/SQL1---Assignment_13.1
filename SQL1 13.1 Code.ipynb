import numpy as np
import pandas as pd
from pandasql import sqldf

url="https://archive.ics.uci.edu/ml/machine-learning-databases/adult/adult.data"
columns=['age','workclass','fnlwgt','education','education_num','marital_status','occupation','relationship','race','sex','capital_gain','capital_loss','hours_per_week','native_country','class']
sqladb=pd.read_csv(url,names=columns,header=None)

#1. Select 10 records from the adult sqladb
print('Select 10 records from the adult sqladb\n','-'*50)
with pd.option_context('expand_frame_repr', False):
	print(sqldf("select * from sqladb limit 10"))

#2. Show me the average hours per week of all men who are working in private sector
print('\naverage hours per week of all men who are working in private sector\n','-'*70,'\n')
q="select avg(hours_per_week) from sqladb where sex=' Male' and workclass = ' Private'"
print(sqldf(q))

#3. Show me the frequency table for education, occupation and relationship, separately
print('\nrequency table for education, occupation and relationship, separately\n','-'*70,'\n')
q1="select distinct(education) as education from sqladb"
q2="select distinct(occupation) as occupation from sqladb"
q3="select distinct(relationship) as relationship from sqladb"

print(sqldf(q1))
print('-'*50)
print(sqldf(q2))
print('-'*50)
print(sqldf(q3))

#4. Are there any people who are married, working in private sector and having a masters degree
print('\npeople who are married, working in private sector and having a masters degree\n','-'*70,'\n')
q="select count(1) from sqladb where marital_status in (' Married-civ-spouse','Married-AF-spouse') and workclass=' Private' and education=' Masters'"
print(sqldf(q))

#5. What is the average, minimum and maximum age group for people working in different sectors
print('\naverage, minimum and maximum age group for people working in different sectors\n','-'*70,'\n')
q="select occupation,avg(age),min(age),max(age) from sqladb group by occupation"
print(sqldf(q))

#6. Calculate age distribution by country
print('\nCalculate age distribution by country\n','-'*50,'\n')
q="select native_country,avg(age),min(age),max(age) from sqladb group by native_country"
print(sqldf(q))

#7. Compute a new column as 'Net-Capital-Gain' from the two columns 'capital-gain' and 'capital-loss'
print('\nCompute a new column as Net-Capital-Gain from the two columns capital-gain and capital-loss\n','-'*100,'\n')
q="select *,(capital_gain+capital_loss) as 'Net_Capital_Gain' from sqladb limit 10"
with pd.option_context('expand_frame_repr', False):
	print(sqldf(q))